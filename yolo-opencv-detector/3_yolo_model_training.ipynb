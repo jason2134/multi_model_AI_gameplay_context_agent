{
 "cells": [
  {
   "cell_type": "markdown",
   "metadata": {
    "id": "y_ohotn_qybF"
   },
   "source": [
    "\n",
    "# **Instructions**:\n",
    "\n",
    "### 1 - Upload this notebook on [Google Colab](https://colab.research.google.com/) (this notebook need to run on Google Colab).\n",
    "### 2 - Open the notebook on Google Colab.\n",
    "### 3 - Change the Google Colab runtime to \"GPU\" by navigating to \"Runtime\" > \"Change runtime type\"\n",
    "### 4 - Run all cells to start training your model.\n",
    "### 5 - After the last command finish its execution, copy the file ```yolov4-tiny/training/yolov4-tiny-custom_last.weights``` from your google drive to the cloned project in the same folder as the 4_yolo_opencv_detector notebook.\n"
   ]
  },
  {
   "cell_type": "code",
   "execution_count": 16,
   "metadata": {
    "id": "sLELVfEKDnI_"
   },
   "outputs": [
    {
     "name": "stderr",
     "output_type": "stream",
     "text": [
      "Cloning into 'darknet'...\n",
      "Updating files:  56% (1152/2055)\n",
      "Updating files:  57% (1172/2055)\n",
      "Updating files:  58% (1192/2055)\n",
      "Updating files:  59% (1213/2055)\n",
      "Updating files:  60% (1233/2055)\n",
      "Updating files:  61% (1254/2055)\n",
      "Updating files:  62% (1275/2055)\n",
      "Updating files:  63% (1295/2055)\n",
      "Updating files:  64% (1316/2055)\n",
      "Updating files:  65% (1336/2055)\n",
      "Updating files:  66% (1357/2055)\n",
      "Updating files:  67% (1377/2055)\n",
      "Updating files:  68% (1398/2055)\n",
      "Updating files:  69% (1418/2055)\n",
      "Updating files:  70% (1439/2055)\n",
      "Updating files:  71% (1460/2055)\n",
      "Updating files:  72% (1480/2055)\n",
      "Updating files:  73% (1501/2055)\n",
      "Updating files:  74% (1521/2055)\n",
      "Updating files:  75% (1542/2055)\n",
      "Updating files:  76% (1562/2055)\n",
      "Updating files:  77% (1583/2055)\n",
      "Updating files:  78% (1603/2055)\n",
      "Updating files:  79% (1624/2055)\n",
      "Updating files:  80% (1644/2055)\n",
      "Updating files:  81% (1665/2055)\n",
      "Updating files:  82% (1686/2055)\n",
      "Updating files:  83% (1706/2055)\n",
      "Updating files:  84% (1727/2055)\n",
      "Updating files:  85% (1747/2055)\n",
      "Updating files:  86% (1768/2055)\n",
      "Updating files:  87% (1788/2055)\n",
      "Updating files:  88% (1809/2055)\n",
      "Updating files:  89% (1829/2055)\n",
      "Updating files:  90% (1850/2055)\n",
      "Updating files:  91% (1871/2055)\n",
      "Updating files:  92% (1891/2055)\n",
      "Updating files:  93% (1912/2055)\n",
      "Updating files:  94% (1932/2055)\n",
      "Updating files:  95% (1953/2055)\n",
      "Updating files:  96% (1973/2055)\n",
      "Updating files:  97% (1994/2055)\n",
      "Updating files:  98% (2014/2055)\n",
      "Updating files:  99% (2035/2055)\n",
      "Updating files: 100% (2055/2055)\n",
      "Updating files: 100% (2055/2055), done.\n"
     ]
    }
   ],
   "source": [
    "!git clone https://github.com/AlexeyAB/darknet"
   ]
  },
  {
   "cell_type": "code",
   "execution_count": 1,
   "metadata": {},
   "outputs": [
    {
     "name": "stdout",
     "output_type": "stream",
     "text": [
      "['.git', '.gitignore', '1_generate_dataset.ipynb', '2_label_dataset.ipynb', '3_yolo_model_training.ipynb', '4_yolo_opencv_detector.ipynb', '5_automate_actions.ipynb', 'annotated', 'capture_full_screen.py', 'darknet', 'data', 'eye_capture1.py', 'images', 'Jaehee_labels_my-project-name_2025-03-20-02-18-04.zip', 'obj', 'obs_game_capture.py', 'README.md', 'recordings', 'requirements.txt', 'shuffled_images.zip', 'shuffled_images_1', 'shuffled_images_2', 'shuffled_images_2.zip', 'split_in_half.py', 'Thang_labels_my-project-name_2025-03-20-05-49-06.zip', 'yolov4-tiny']\n"
     ]
    }
   ],
   "source": [
    "import os\n",
    "print(os.listdir('.'))"
   ]
  },
  {
   "cell_type": "code",
   "execution_count": 2,
   "metadata": {
    "id": "fHdLgyNRqP1X"
   },
   "outputs": [
    {
     "name": "stdout",
     "output_type": "stream",
     "text": [
      " Volume in drive C is Windows-SSD\n",
      " Volume Serial Number is 2E1C-CA3E\n",
      "\n",
      " Directory of c:\\Users\\jason\\UTS\\pdd9_cv\\yolo-opencv-detector\\yolov4-tiny\n",
      "\n",
      "11/03/2025  04:45 pm    <DIR>          .\n",
      "21/03/2025  03:14 pm    <DIR>          ..\n",
      "06/03/2025  11:29 am               124 obj.data\n",
      "06/03/2025  11:29 am                26 obj.names\n",
      "11/03/2025  04:45 pm               106 obj.zip\n",
      "06/03/2025  11:29 am               824 process.py\n",
      "06/03/2025  11:29 am    <DIR>          training\n",
      "06/03/2025  11:29 am             3,297 yolov4-tiny-custom.cfg\n",
      "06/03/2025  11:29 am             3,366 yolov4-tiny-custom_template.cfg\n",
      "06/03/2025  11:29 am        19,789,716 yolov4-tiny.conv.29\n",
      "               7 File(s)     19,797,459 bytes\n",
      "               3 Dir(s)  519,823,912,960 bytes free\n"
     ]
    }
   ],
   "source": [
    "!dir \"./yolov4-tiny\""
   ]
  },
  {
   "cell_type": "code",
   "execution_count": 3,
   "metadata": {
    "id": "vRx_2ufLYKzq"
   },
   "outputs": [
    {
     "name": "stdout",
     "output_type": "stream",
     "text": [
      "C:\\Users\\jason\\UTS\\pdd9_cv\\yolo-opencv-detector\\darknet\n"
     ]
    }
   ],
   "source": [
    "%cd \"C:\\Users\\jason\\UTS\\pdd9_cv\\yolo-opencv-detector\\darknet\"\n",
    "\n",
    "!powershell -Command \"(Get-Content Makefile) -replace 'OPENCV=0', 'OPENCV=1' | Set-Content Makefile\"\n",
    "!powershell -Command \"(Get-Content Makefile) -replace 'GPU=0', 'GPU=1' | Set-Content Makefile\"\n",
    "!powershell -Command \"(Get-Content Makefile) -replace 'CUDNN=0', 'CUDNN=1' | Set-Content Makefile\"\n",
    "!powershell -Command \"(Get-Content Makefile) -replace 'CUDNN_HALF=0', 'CUDNN_HALF=1' | Set-Content Makefile\"\n",
    "!powershell -Command \"(Get-Content Makefile) -replace 'LIBSO=0', 'LIBSO=1' | Set-Content Makefile\""
   ]
  },
  {
   "cell_type": "code",
   "execution_count": 4,
   "metadata": {
    "id": "YgWuHt3GK3Gz"
   },
   "outputs": [
    {
     "name": "stderr",
     "output_type": "stream",
     "text": [
      "make: *** No rule to make target 'darknet.exe', needed by 'all'.  Stop.\n"
     ]
    }
   ],
   "source": [
    "!make"
   ]
  },
  {
   "cell_type": "code",
   "execution_count": 5,
   "metadata": {
    "id": "PJ12EpatuOdw"
   },
   "outputs": [
    {
     "name": "stdout",
     "output_type": "stream",
     "text": [
      "C:\\Users\\jason\\UTS\\pdd9_cv\\yolo-opencv-detector\\darknet\\data\n",
      "C:\\Users\\jason\\UTS\\pdd9_cv\\yolo-opencv-detector\\darknet\n"
     ]
    },
    {
     "name": "stderr",
     "output_type": "stream",
     "text": [
      "FIND: Parameter format not correct\n",
      "UsageError: Line magic function `%rm` not found.\n"
     ]
    }
   ],
   "source": [
    "%cd data/\n",
    "!find -maxdepth 1 -type f -exec rm -rf {} \\;\n",
    "%cd ..\n",
    "\n",
    "%rm -rf cfg/\n",
    "%mkdir cfg"
   ]
  },
  {
   "cell_type": "code",
   "execution_count": null,
   "metadata": {
    "id": "eUeBO88DuSdj"
   },
   "outputs": [],
   "source": [
    "!cp /mydrive/yolov4-tiny/obj.zip ../\n",
    "!unzip ../obj.zip -d data/\n",
    "\n",
    "!cp /mydrive/yolov4-tiny/yolov4-tiny-custom.cfg ./cfg\n",
    "!cp /mydrive/yolov4-tiny/obj.names ./data\n",
    "!cp /mydrive/yolov4-tiny/obj.data  ./data\n",
    "!cp /mydrive/yolov4-tiny/process.py ./\n",
    "!cp /mydrive/yolov4-tiny/yolov4-tiny.conv.29 ./"
   ]
  },
  {
   "cell_type": "code",
   "execution_count": null,
   "metadata": {
    "id": "N8JDSBpwusXn"
   },
   "outputs": [],
   "source": [
    "!python process.py"
   ]
  },
  {
   "cell_type": "code",
   "execution_count": null,
   "metadata": {
    "id": "omzY915VqWS8"
   },
   "outputs": [],
   "source": [
    "!ls data/"
   ]
  },
  {
   "cell_type": "code",
   "execution_count": null,
   "metadata": {
    "id": "iblRcnnSu1Uq"
   },
   "outputs": [],
   "source": [
    "!./darknet detector train data/obj.data cfg/yolov4-tiny-custom.cfg yolov4-tiny.conv.29 -dont_show"
   ]
  }
 ],
 "metadata": {
  "accelerator": "GPU",
  "colab": {
   "gpuType": "T4",
   "provenance": []
  },
  "kernelspec": {
   "display_name": "pdd9",
   "language": "python",
   "name": "python3"
  },
  "language_info": {
   "codemirror_mode": {
    "name": "ipython",
    "version": 3
   },
   "file_extension": ".py",
   "mimetype": "text/x-python",
   "name": "python",
   "nbconvert_exporter": "python",
   "pygments_lexer": "ipython3",
   "version": "3.11.10"
  }
 },
 "nbformat": 4,
 "nbformat_minor": 1
}
